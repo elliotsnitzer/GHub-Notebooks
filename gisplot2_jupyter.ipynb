{
 "cells": [
  {
   "cell_type": "markdown",
   "metadata": {
    "extensions": {
     "jupyter_dashboards": {
      "version": 1,
      "views": {
       "grid_default": {
        "col": 0,
        "height": 3,
        "hidden": false,
        "row": 0,
        "width": 10
       },
       "report_default": {
        "hidden": false
       }
      }
     }
    }
   },
   "source": [
    "# Ice Sheet Model Comparison Tool"
   ]
  },
  {
   "cell_type": "markdown",
   "metadata": {
    "extensions": {
     "jupyter_dashboards": {
      "version": 1,
      "views": {
       "grid_default": {
        "col": 0,
        "height": 22,
        "hidden": false,
        "row": 3,
        "width": 12
       },
       "report_default": {
        "hidden": false
       }
      }
     }
    }
   },
   "source": [
    "This tool plots measurements from one or several netCDF (.nc) ice sheet models for visual\n",
    "inspection and download. You must select files having a common experiment and variable name. \n",
    "\n",
    "To use this tool:\n",
    "\n",
    "1. Click Upload Files and select netCDF ice sheet model files from your local machine. You may select between 1 and 6 files. (netCDF files uploaded to this program are assumed to follow ISMIP6 format)\n",
    "1. Once files have uploaded, select either a standard or model-based stereographic projection.\n",
    "1. Click Plot Data to run the processing.\n",
    "\n",
    "File Naming Convention:\n",
    "\n",
    "example file name: \n",
    "acabf_GIS_IMAU_IMAUICE1_init.nc\n",
    "- acabf -- 2D variable name\n",
    "- GIS -- Greenland Ice Sheet\n",
    "- IMAU -- Modeling group name\n",
    "- IMAUICE1 -- Ice sheet model name\n",
    "- init -- experiment name\n",
    "\n",
    "The ice sheet model plots display in a new browser tab and can be downloaded to your local machine.\n",
    "\n",
    "Downloaded Files are stored locally in the user's home directory.\n",
    "\n",
    "Uploaded files are stored in the /data/groups/ghub/tools/gisplot2 directory.\n",
    "\n",
    "Background:\n",
    "- This Jupyter-based tool uses Python2 with Matplotlib, Cartopy, NumPy, and XArray packages.\n",
    "- This tool is compatible with both Greenland(GIS) and Antarctic(AIS) Ice Sheet Data.\n",
    "- Data uploads in this program are stored in /data/groups/ghub/tools/gisplot for the duration of the tool session\n",
    "- [gisplot example](data/example_gisplot_jupyter.ipynb) to view the Python code and an example plot.\n",
    "\n",
    "Notice:\n",
    "- If the upload widget appears as a straight line rather than an interactive button, restart the tool competely. Refreshing the page does not fix this problem.\n",
    "- Do not upload identical files through the upload widget. In this case try refreshing the page, although the afore mentioned error may occur. "
   ]
  },
  {
   "cell_type": "code",
   "execution_count": 28,
   "metadata": {
    "extensions": {
     "jupyter_dashboards": {
      "version": 1,
      "views": {
       "grid_default": {
        "hidden": true
       },
       "report_default": {
        "hidden": true
       }
      }
     }
    }
   },
   "outputs": [
    {
     "name": "stdout",
     "output_type": "stream",
     "text": [
      "no change     /apps/share64/debian7/anaconda/anaconda-6/condabin/conda\n",
      "no change     /apps/share64/debian7/anaconda/anaconda-6/bin/conda\n",
      "no change     /apps/share64/debian7/anaconda/anaconda-6/bin/conda-env\n",
      "no change     /apps/share64/debian7/anaconda/anaconda-6/bin/activate\n",
      "no change     /apps/share64/debian7/anaconda/anaconda-6/bin/deactivate\n",
      "no change     /apps/share64/debian7/anaconda/anaconda-6/etc/profile.d/conda.sh\n",
      "no change     /apps/share64/debian7/anaconda/anaconda-6/etc/fish/conf.d/conda.fish\n",
      "no change     /apps/share64/debian7/anaconda/anaconda-6/shell/condabin/Conda.psm1\n",
      "no change     /apps/share64/debian7/anaconda/anaconda-6/shell/condabin/conda-hook.ps1\n",
      "no change     /apps/share64/debian7/anaconda/anaconda-6/lib/python3.7/site-packages/xontrib/conda.xsh\n",
      "no change     /apps/share64/debian7/anaconda/anaconda-6/etc/profile.d/conda.csh\n",
      "no change     /home/vhub/elliotsnitzer/.bashrc\n",
      "No action taken.\n",
      "\n",
      "CommandNotFoundError: Your shell has not been properly configured to use 'conda activate'.\n",
      "To initialize your shell, run\n",
      "\n",
      "    $ conda init <SHELL_NAME>\n",
      "\n",
      "Currently supported shells are:\n",
      "  - bash\n",
      "  - fish\n",
      "  - tcsh\n",
      "  - xonsh\n",
      "  - zsh\n",
      "  - powershell\n",
      "\n",
      "See 'conda init --help' for more information and options.\n",
      "\n",
      "IMPORTANT: You may need to close and restart your shell after running 'conda init'.\n",
      "\n",
      "\n"
     ]
    }
   ],
   "source": [
    "#Importing python packages\n",
    "!conda init \n",
    "\n",
    "!conda activate /apps/share64/debian7/anaconda/anaconda-6/envs/xarray_anaconda_6"
   ]
  },
  {
   "cell_type": "code",
   "execution_count": 20,
   "metadata": {
    "extensions": {
     "jupyter_dashboards": {
      "version": 1,
      "views": {
       "grid_default": {
        "hidden": true
       },
       "report_default": {
        "hidden": true
       }
      }
     }
    }
   },
   "outputs": [
    {
     "ename": "ModuleNotFoundError",
     "evalue": "No module named 'xarray'",
     "output_type": "error",
     "traceback": [
      "\u001b[0;31m---------------------------------------------------------------------------\u001b[0m",
      "\u001b[0;31mModuleNotFoundError\u001b[0m                       Traceback (most recent call last)",
      "\u001b[0;32m<ipython-input-20-fe41bddf1685>\u001b[0m in \u001b[0;36m<module>\u001b[0;34m\u001b[0m\n\u001b[1;32m      8\u001b[0m \u001b[0;34m\u001b[0m\u001b[0m\n\u001b[1;32m      9\u001b[0m \u001b[0;32mimport\u001b[0m \u001b[0mnumpy\u001b[0m \u001b[0;32mas\u001b[0m \u001b[0mnp\u001b[0m\u001b[0;34m\u001b[0m\u001b[0;34m\u001b[0m\u001b[0m\n\u001b[0;32m---> 10\u001b[0;31m \u001b[0;32mimport\u001b[0m \u001b[0mxarray\u001b[0m \u001b[0;32mas\u001b[0m \u001b[0mxr\u001b[0m\u001b[0;34m\u001b[0m\u001b[0;34m\u001b[0m\u001b[0m\n\u001b[0m\u001b[1;32m     11\u001b[0m \u001b[0;34m\u001b[0m\u001b[0m\n\u001b[1;32m     12\u001b[0m \u001b[0;32mimport\u001b[0m \u001b[0mmatplotlib\u001b[0m\u001b[0;34m\u001b[0m\u001b[0;34m\u001b[0m\u001b[0m\n",
      "\u001b[0;31mModuleNotFoundError\u001b[0m: No module named 'xarray'"
     ]
    }
   ],
   "source": [
    "import hublib.use\n",
    "import os,sys\n",
    "import io\n",
    "# On VHub, xarray and cartopy installed in anaconda2-5.1\n",
    "\n",
    "import warnings\n",
    "warnings.filterwarnings(\"ignore\", message=\"numpy.dtype size changed\")\n",
    "\n",
    "import numpy as np\n",
    "import xarray as xr\n",
    "\n",
    "import matplotlib\n",
    "import matplotlib.pyplot as plt\n",
    "import matplotlib.image as mpimg\n",
    "#%matplotlib inline\n",
    "\n",
    "import cartopy\n",
    "import cartopy.crs as ccrs\n",
    "import cartopy.io.shapereader as shpreader\n",
    "\n",
    "sys.path.insert(0, os.path.abspath('..'))\n",
    "import hublib.ui as ui\n",
    "\n",
    "import ipywidgets as widgets\n",
    "import math\n",
    "\n",
    "import requests\n",
    "from requests.exceptions import HTTPError\n",
    "\n",
    "from IPython.display import Image \n",
    "import time\n",
    "\n",
    "from collections import Counter\n",
    "\n",
    "from IPython.display import Javascript\n",
    "\n",
    "import threading\n",
    "import cProfile"
   ]
  },
  {
   "cell_type": "code",
   "execution_count": 26,
   "metadata": {
    "extensions": {
     "jupyter_dashboards": {
      "version": 1,
      "views": {
       "grid_default": {
        "hidden": true
       },
       "report_default": {
        "hidden": true
       }
      }
     }
    }
   },
   "outputs": [],
   "source": [
    "def load_icesheet_data(file_names):\n",
    "    #update_progress function is used to show the loading animation while running plotting functions\n",
    "    update_progress(0)\n",
    "    #compiling file names into a list\n",
    "    counter = 0\n",
    "    global file_vars\n",
    "    file_vars = []\n",
    "    for file in file_names:\n",
    "        file_vars.append(file)\n",
    "        counter = counter+1\n",
    "    \n",
    "    global mapping_var\n",
    "    if 'AIS' in file_vars[0]:\n",
    "        mapping_var = 'mapping'\n",
    "    elif 'GIS' in file_vars[0]:\n",
    "        mapping_var = 'Polar_Stereographic'\n",
    "        \n",
    "    #converting netCDF files into Xarrays and storing them in a list\n",
    "    counter = 0\n",
    "    global model_vars\n",
    "    model_vars = []  \n",
    "    for f in file_vars:\n",
    "        #decoded_times = False is needed to process these files\n",
    "        #As far as I can tell it is only needed for AIS data\n",
    "        model_vars.append(xr.open_dataset(f,engine='netcdf4',decode_times=False)) \n",
    "        counter = counter+1\n",
    "    \n",
    "    update_progress(0.1)  \n",
    "    #collect titles for each of the subplots using the file names\n",
    "    global ctvs, titles\n",
    "    ctvs = []\n",
    "    titles = []\n",
    "    for f in file_names:\n",
    "        fbase = os.path.basename(f)\n",
    "        t = fbase.replace('.nc','')\n",
    "        lt = t.split('_')\n",
    "        #try catch to catch error in case the 2D variable name does not exist in the file\n",
    "        try:\n",
    "            #ctvs lilst stores the 2D variable names      ##might no longer be needed after adding references\n",
    "            ctvs.append(lt[0])\n",
    "        except:\n",
    "            with output_widget:\n",
    "                print('Data Variable missing from netCDF file')\n",
    "            #\"return\" returns None, which simply exits the function\n",
    "            return\n",
    "        title = lt[2]+'_'+lt[3]\n",
    "        titles.append(title)\n",
    "    \n",
    "    #function grabs and stores polar stereographic data from each Xarray \n",
    "    counter = 0\n",
    "    global ctv_vars, ctv_proj_vars\n",
    "    ctv_vars = []\n",
    "    ctv_proj_vars = []\n",
    "    try:\n",
    "        for m in model_vars:\n",
    "            ctv_vars.append(m[ctvs[counter]])\n",
    "            ctv_proj_vars.append(m[mapping_var])\n",
    "            counter = counter+1\n",
    "    except:\n",
    "        with output_widget:\n",
    "            print('')\n",
    "        \n",
    "    update_progress(0.2) \n",
    "    \n",
    "    #sets the stereographic projection based on the user's choice between a model based and standard projection\n",
    "    global polar_stereographic\n",
    "    if stereograph_choice.value == 'standard':\n",
    "        if mapping_var == 'Polar_Stereographic':\n",
    "            #Set Standard Polar Sterographic Projection definition\n",
    "            polar_stereographic = ccrs.Stereographic(\n",
    "                central_latitude=90.0,\n",
    "                central_longitude=-45.0,\n",
    "                false_easting=0.0,\n",
    "                false_northing=0.0,\n",
    "                true_scale_latitude=70.0,\n",
    "                globe=ccrs.Globe('WGS84'))\n",
    "        elif mapping_var == 'mapping':\n",
    "            polar_stereographic = ccrs.Stereographic(\n",
    "                central_latitude=-90.0,\n",
    "                central_longitude=0.0,\n",
    "                false_easting=0.0,\n",
    "                false_northing=0.0,\n",
    "                true_scale_latitude=-71.0,\n",
    "                globe=ccrs.Globe('WGS84'))\n",
    "    \n",
    "    else:\n",
    "        polar_stereographic = ccrs.Stereographic(\n",
    "            central_latitude=ctv_proj_vars[0].latitude_of_projection_origin,\n",
    "            central_longitude=ctv_proj_vars[0].straight_vertical_longitude_from_pole,\n",
    "            false_easting=ctv_proj_vars[0].false_easting,\n",
    "            false_northing=ctv_proj_vars[0].false_northing,\n",
    "            true_scale_latitude=ctv_proj_vars[0].standard_parallel,\n",
    "            globe=ccrs.Globe('WGS84') )\n",
    "            \n",
    "    update_progress(0.3)\n",
    "    \n",
    "    #calls the next function in the plotting process\n",
    "    try:\n",
    "        check = transform_projection()\n",
    "        if check=='failed':\n",
    "            upload_button.clear_output()\n",
    "            return check\n",
    "    except:\n",
    "        with output_widget:\n",
    "            print('ERROR: Projection Transformation Failed')\n",
    "        return"
   ]
  },
  {
   "cell_type": "code",
   "execution_count": 27,
   "metadata": {
    "extensions": {
     "jupyter_dashboards": {
      "version": 1,
      "views": {
       "grid_default": {
        "hidden": true
       },
       "report_default": {
        "hidden": true
       }
      }
     }
    }
   },
   "outputs": [],
   "source": [
    "def transform_projection(): \n",
    "    ######################\n",
    "    # Transform projection\n",
    "    #setting cartopy map values based on WGS84\n",
    "    geodetic = ccrs.Geodetic(globe=ccrs.Globe('WGS84'))\n",
    "    \n",
    "    yv, xv = np.meshgrid(model_vars[0].y.data, model_vars[0].x.data)\n",
    "    ll = geodetic.transform_points(src_crs=polar_stereographic, x=xv.flatten(), y=yv.flatten())\n",
    "    global lons,lats\n",
    "    lons = ll[:,0]\n",
    "    lats = ll[:,1]\n",
    "    \n",
    "    update_progress(0.4)\n",
    "    \n",
    "    counter = 0\n",
    "    global ctv_mean_vars\n",
    "    ctv_mean_vars = []\n",
    "    for l in ctv_vars:\n",
    "        ctv_mean_vars.append(l.mean(dim='time').data)\n",
    "        ctv_mean_vars[counter] = ctv_mean_vars[counter].transpose()\n",
    "        ctv_mean_vars[counter] = ctv_mean_vars[counter].flatten()\n",
    "        counter = counter+1\n",
    "        \n",
    "    update_progress(0.5)\n",
    "    \n",
    "    try:\n",
    "        check = plot_icesheet_data()\n",
    "        if check == 'failed':\n",
    "            return check\n",
    "    except:\n",
    "        output_widget.clear_output()\n",
    "        with output_widget:\n",
    "            print('ERROR: Plotting Failed')\n",
    "        time.sleep(3)\n",
    "        return 'failed'\n",
    "    \n",
    "    #line not needed just used to profile the following function\n",
    "#    cProfile.run('plot_icesheet_data()')"
   ]
  },
  {
   "cell_type": "code",
   "execution_count": 28,
   "metadata": {
    "extensions": {
     "jupyter_dashboards": {
      "version": 1,
      "views": {
       "grid_default": {
        "hidden": true
       },
       "report_default": {
        "hidden": true
       }
      }
     }
    }
   },
   "outputs": [],
   "source": [
    "def plot_icesheet_data():    \n",
    "    ####################\n",
    "    #Plot Transformed Ice Sheet Data\n",
    "    update_progress(0.6)\n",
    "    \n",
    "    #get dimensions for subplotting images\n",
    "    num_frames = len(ctv_vars)\n",
    "    if num_frames == 1:\n",
    "        grid_cols = 1\n",
    "        grid_rows = 1\n",
    "        fig_dims = [10,10]\n",
    "    else:\n",
    "        grid_cols = 2\n",
    "        grid_rows = math.ceil(math.sqrt(num_frames))\n",
    "        fig_dims = [16,8*grid_rows]\n",
    "    #creates a figure using the dimensions calculated\n",
    "    plt.figure(figsize=(fig_dims[0],fig_dims[1]))\n",
    "    \n",
    "    update_progress(0.7)\n",
    "    #using all previously gathered data to create the subplots for each dataset\n",
    "    try:\n",
    "        counter = 0\n",
    "        ax_vars = []\n",
    "        for l in ctv_mean_vars:\n",
    "            frame = counter+1\n",
    "            ax_vars.append(plt.subplot(grid_rows,grid_cols,frame, projection=polar_stereographic))\n",
    "            if mapping_var == 'Polar_Stereographic':\n",
    "                ax_vars[counter].set_extent([-65, -20, 57, 84]) #not needed for ais plots\n",
    "#        elif mapping_var == 'mapping':\n",
    "#            pass\n",
    "            #ax_vars[counter].set_extent([-180,-160,183,30])#shortest = [-180,-160,180,-10]\n",
    "            #if this doesn't end up speeding it up just delete\n",
    "            #ax_vars[counter].set_extent([-65, -20, 57, 84]) #changing these values may speed up the plotting\n",
    "            ax_vars[counter].coastlines(resolution='10m', zorder=7)\n",
    "            ax_vars[counter].gridlines(zorder=8)\n",
    "        #appropriately names the reference data subplot\n",
    "            if counter==0:\n",
    "                ax_vars[counter].set_title('Reference Data ('+titles[0]+')', fontsize=20)\n",
    "            else:\n",
    "                ax_vars[counter].set_title(titles[counter], fontsize=20)\n",
    "#        if stereograph_choice.value == 'standard':\n",
    "            plt.scatter(lons, lats, 1, c=ctv_mean_vars[counter], transform=ccrs.Geodetic(), zorder=0, cmap='viridis')\n",
    "#        else:\n",
    "#            plt.scatter(lons_vars[counter], lats_vars[counter], 1, c=ctv_mean_vars[counter], transform=ccrs.Geodetic(), zorder=0, cmap='viridis')\n",
    "        #sets subplots axis name and units based on the data in the Xarray\n",
    "            data_table = getattr(model_vars[counter],ctvs[counter])\n",
    "            name = data_table.attrs['standard_name']\n",
    "            units = data_table.attrs['units']\n",
    "            c = plt.colorbar(fraction=0.046, pad=0.04)\n",
    "            c.set_label('{0} ({1})'.format(name, units), size=16)\n",
    "            counter = counter+1\n",
    "        axes = plt.gca()\n",
    "        plt.tight_layout(rect=[0, 0.03, 1, 0.95])\n",
    "    except:\n",
    "        return 'failed'\n",
    "\n",
    "    update_progress(0.8)\n",
    "    #sets title for entire figure\n",
    "    plt.suptitle((name+' ('+ctvs[0]+')'), fontsize=30) #subtitle name may need to be adjusted later\n",
    "    plt.subplots_adjust(top=0.88)\n",
    "    #saves figure for user to download later if they choose\n",
    "    plt.savefig('GIS_Ice_Sheet_Model_Comparison.png', dpi='figure')\n",
    "    \n",
    "    update_progress(0.9)\n",
    "    #print(ax_vars[0].get_extent())\n",
    "    output_widget.clear_output(wait = True)\n",
    "    with output_widget:\n",
    "        plt.show() \n",
    "    with filename_output:\n",
    "        print('Plotted Files:')\n",
    "        for f in file_names:\n",
    "            fbase = os.path.basename(f)\n",
    "            print(fbase)"
   ]
  },
  {
   "cell_type": "code",
   "execution_count": 29,
   "metadata": {
    "extensions": {
     "jupyter_dashboards": {
      "version": 1,
      "views": {
       "grid_default": {
        "hidden": true
       },
       "report_default": {}
      }
     }
    }
   },
   "outputs": [],
   "source": [
    "def check_files():\n",
    "    global checked_files, wrong_files\n",
    "    checked_files = []\n",
    "    wrong_files = []\n",
    "    var_names = []\n",
    "    ex_names = []\n",
    "    split_names = []\n",
    "    counter = 0\n",
    "    #loop to collect 2D variables and experiment names from the provided files\n",
    "    for f in uploaded_filenames:\n",
    "        fbase = os.path.basename(f).replace('.nc','')\n",
    "        split_names.append(fbase.split('_'))\n",
    "        var_names.append(split_names[counter][0])\n",
    "        ex_names.append(split_names[counter][4])\n",
    "        counter = counter+1\n",
    "    #these two lines find the most commonly occuring 2D variable in the files provided\n",
    "    variables = Counter(var_names)\n",
    "    ref_var = variables.most_common(1)[0][0]\n",
    "    counter = 0\n",
    "    exs = []\n",
    "    #loop uses most common 2D variable to find the most common experiment\n",
    "    for f in uploaded_filenames:\n",
    "        if ref_var == split_names[counter][0]:\n",
    "            exs.append(ex_names[counter])\n",
    "        counter = counter+1\n",
    "    experiments = Counter(exs)\n",
    "    ref_ex = experiments.most_common(1)[0][0]\n",
    "    counter = 0\n",
    "    #puts the files fitting the reference file into checked files and saves the removed files into wrong files\n",
    "    for f in uploaded_filenames:\n",
    "        if ref_var == split_names[counter][0] and ref_ex == split_names[counter][4]:\n",
    "            checked_files.append(f)\n",
    "        else:\n",
    "            wrong_files.append(f)\n",
    "        counter = counter+1\n",
    "    ref_file = ''\n",
    "    #creates file path based on if the user is uploading Greenland or Antarctic Ice Sheet Data\n",
    "    if 'GIS' in checked_files[0]:\n",
    "        path = '/data/groups/ghub/tools/reference/gis'\n",
    "    elif 'AIS' in checked_files[0]:\n",
    "        path = '/data/groups/ghub/tools/reference/ais'\n",
    "    #r=root d=directory f=file\n",
    "    for r,d,f in os.walk(path):\n",
    "        for file in f:\n",
    "            rbase = file.replace('.nc','')\n",
    "            split_ref = rbase.split('_')\n",
    "            if split_ref[0] == ref_var and split_ref[4] == ref_ex:\n",
    "                ref_file = os.path.join(r,file)\n",
    "    #checks in case a rerence file couldn't be found that fits the uploaded data\n",
    "    if len(ref_file)==0:\n",
    "        with output_widget:\n",
    "            print('ERROR: No reference file found')\n",
    "            return\n",
    "    checked_files.insert(0,ref_file)\n",
    "    return 'all good'\n",
    "    \n",
    "def uploaded_cb(b):\n",
    "    download_button(False)\n",
    "    #d1.w.layout.visibility = 'hidden'\n",
    "    fm.visible = False\n",
    "    stereograph_choice.disabled = True\n",
    "    uploaded_data.disabled = True\n",
    "    \n",
    "    global file_names\n",
    "    file_names = checked_files\n",
    "    try:\n",
    "        check = load_icesheet_data(file_names)\n",
    "    except:\n",
    "        output_widget.clear_output()\n",
    "        fm.visible = True\n",
    "        with output_widget:\n",
    "            print('Plotting Failed')\n",
    "            print('File may be formatted incorrectly')\n",
    "    \n",
    "    global projection_value\n",
    "    projection_value = stereograph_choice.value\n",
    "    \n",
    "    uploaded_data.disabled = False\n",
    "    stereograph_choice.disabled = False\n",
    "    button_output_widget.clear_output()\n",
    "    fm.visible = True\n",
    "    download_button(True)\n",
    "    with trash_output:\n",
    "        clear_uploads()\n",
    "    \n",
    "    if check=='failed':\n",
    "        download_button(False)\n",
    "        fm.visible = False\n",
    "        stereograph_choice.disabled = True\n",
    "        uploaded_data.disabled = True\n",
    "        with output_widget:\n",
    "            print('ERROR: Plotting Failed')\n",
    "            print('File may be formatted incorrectly')\n",
    "        fm.visible = True\n",
    "    \n",
    "# Called when all files finish uploading\n",
    "def done_cb(w, name):\n",
    "    upload_button.clear_output()\n",
    "    filename_output.clear_output()\n",
    "    trash_output.clear_output()\n",
    "    output_widget.clear_output()\n",
    "    global projection_value\n",
    "    projection_value = ''\n",
    "    global uploaded_filenames\n",
    "    uploaded_filenames = []\n",
    "    #checks to make sure files are netCDFs\n",
    "    for n in name:\n",
    "        fbase = os.path.basename(n)\n",
    "        if '.nc' in n:\n",
    "            uploaded_filenames.append(n)\n",
    "        else:\n",
    "            with output_widget:\n",
    "                print('File '+fbase+' Not Uploaded')\n",
    "                print('Incorrect File Type: must be a netcdf(.nc) file\\n')\n",
    "    #resets upload if no vallid netCDFs are uploaded\n",
    "    if len(uploaded_filenames)==0:\n",
    "        w.reset()\n",
    "        uploaded_data.layout.visibility = 'hidden'\n",
    "        stereograph_choice.layout.visibility = 'hidden'\n",
    "        return\n",
    "    #calls function to check the files and get corresponding reference file\n",
    "    check = check_files()\n",
    "    #resets upload if the check files fnction throws an error\n",
    "    if check == None:\n",
    "        w.reset()\n",
    "        uploaded_data.layout.visibility = 'hidden'\n",
    "        stereograph_choice.layout.visibility = 'hidden'\n",
    "        return\n",
    "    uploaded_data.layout.visibility = 'visible'\n",
    "    stereograph_choice.layout.visibility = 'visible'\n",
    "    #prints info about what was uploaded to the user\n",
    "    with output_widget:\n",
    "        c = 0\n",
    "        for f in checked_files:\n",
    "            fbase = os.path.basename(f)\n",
    "            if c==0:\n",
    "                print(\"Reference File: %s\" % fbase)\n",
    "            else:\n",
    "                print(\"%s uploaded\" % fbase)\n",
    "            c=c+1\n",
    "        if len(wrong_files)!=0:\n",
    "            print('\\n\\nSome files did not fit the chosen reference file:')\n",
    "            for f in wrong_files:\n",
    "                fbase = os.path.basename(f)\n",
    "                print(fbase)\n",
    "    reset_upload.layout.visibility = 'hidden'\n",
    "    # reset clears and re-enables the widget for more uploads\n",
    "    w.reset()\n",
    "    display_upload()"
   ]
  },
  {
   "cell_type": "code",
   "execution_count": 38,
   "metadata": {
    "extensions": {
     "jupyter_dashboards": {
      "version": 1,
      "views": {
       "grid_default": {
        "hidden": true
       },
       "report_default": {
        "hidden": true
       }
      }
     }
    }
   },
   "outputs": [],
   "source": [
    "def update_progress(progress):\n",
    "    #generates loading animation throughout plotting process\n",
    "    title = 'Plotting Uploaded Data:'\n",
    "    bar_length = 20\n",
    "    block = int(20.0*progress)\n",
    "    text = title+\" [{0}] {1:.1f}%\".format( \"#\" * block + \"-\" * (bar_length - block), progress * 100)\n",
    "    output_widget.clear_output(wait = True)\n",
    "    with output_widget:\n",
    "        print(text)\n",
    "        \n",
    "def download_button(active):\n",
    "    ##creates download button when called\n",
    "    #prevents pop ups when the tool is launched\n",
    "    if active:\n",
    "        d1 = ui.Download('GIS_Ice_Sheet_Model_Comparison.png', label = 'Download Plot', \n",
    "                  style='success', icon='fa-arrow-circle-down')\n",
    "        with button_output_widget:\n",
    "            display(d1)\n",
    "    else:\n",
    "        button_output_widget.clear_output()       \n",
    "        \n",
    "def button_deactivation(change):\n",
    "    #deactivates or activates buttons based on when the upload button is clicked\n",
    "    if len(uploaded_filenames)==0:\n",
    "        return\n",
    "    if len(change['old'])==1:\n",
    "        output_widget.clear_output()\n",
    "        download_button(False)\n",
    "        #d1.w.layout.visibility = 'hidden'\n",
    "        stereograph_choice.disabled = True\n",
    "        uploaded_data.disabled = True\n",
    "    elif len(change['old'])>1:\n",
    "        stereograph_choice.disabled = False\n",
    "        uploaded_data.disabled = False\n",
    "\n",
    "def check_permissions():\n",
    "    #checks to see if user has permission to upload files and read from reference directory\n",
    "    f = open('output.txt','w+r')\n",
    "    !getfacl -d /data/groups/ghub/tools/gisplot2 >> output.txt\n",
    "    for l in f:\n",
    "        if 'group' in l:\n",
    "            access = l\n",
    "    if 'rwx' not in access:\n",
    "        try:\n",
    "            !setfacl -d -m g::rwx /data/groups/ghub/tools/gisplot2\n",
    "        except:\n",
    "            with output_widget:\n",
    "                print('Upload Permission Restricted: Contact Admnistrator')\n",
    "        \n",
    "def second_plot_activation(change):\n",
    "    #allows for dynamic adtivation of stereograph_choice widget\n",
    "    if projection_value != '':\n",
    "        if projection_value == stereograph_choice.value:\n",
    "            uploaded_data.disabled = True\n",
    "        else:\n",
    "            uploaded_data.disabled = False\n",
    "    else:\n",
    "        uploaded_data.disabled = False\n",
    "        \n",
    "def clear_uploads():\n",
    "    #deletes upload directory when needed\n",
    "    !rm -rf {upload_directory}\n",
    "\n",
    "def provide_fix(change):\n",
    "    filename_output.clear_output()\n",
    "    if len(change['new'])>len(change['old']):\n",
    "        reset_upload.layout.visibility = 'visible'\n",
    "    else:\n",
    "        reset_upload.layout.visibility = 'hidden'\n",
    "\n",
    "def fix_upload(b):\n",
    "    try:\n",
    "        with trash_output:\n",
    "            fm.reset()\n",
    "            stereograph_choice.disabled = True\n",
    "            uploaded_data.disabled = True\n",
    "    except:\n",
    "        with output_widget:\n",
    "            print('Wait until upload finishes.')"
   ]
  },
  {
   "cell_type": "code",
   "execution_count": 39,
   "metadata": {
    "extensions": {
     "jupyter_dashboards": {
      "version": 1,
      "views": {
       "grid_default": {
        "col": 0,
        "height": 2,
        "hidden": true,
        "row": 19,
        "width": 4
       },
       "report_default": {
        "hidden": true
       }
      }
     }
    }
   },
   "outputs": [
    {
     "ename": "ValueError",
     "evalue": "must have exactly one of create/read/write/append mode",
     "output_type": "error",
     "traceback": [
      "\u001b[0;31m---------------------------------------------------------------------------\u001b[0m",
      "\u001b[0;31mValueError\u001b[0m                                Traceback (most recent call last)",
      "\u001b[0;32m<ipython-input-39-213fa1bf270b>\u001b[0m in \u001b[0;36m<module>\u001b[0;34m\u001b[0m\n\u001b[1;32m      5\u001b[0m \u001b[0;31m#scripting to run when the tool is launched\u001b[0m\u001b[0;34m\u001b[0m\u001b[0;34m\u001b[0m\u001b[0;34m\u001b[0m\u001b[0m\n\u001b[1;32m      6\u001b[0m \u001b[0;31m#mostly creates widgets\u001b[0m\u001b[0;34m\u001b[0m\u001b[0;34m\u001b[0m\u001b[0;34m\u001b[0m\u001b[0m\n\u001b[0;32m----> 7\u001b[0;31m \u001b[0mcheck_permissions\u001b[0m\u001b[0;34m(\u001b[0m\u001b[0;34m)\u001b[0m\u001b[0;34m\u001b[0m\u001b[0;34m\u001b[0m\u001b[0m\n\u001b[0m\u001b[1;32m      8\u001b[0m \u001b[0;34m\u001b[0m\u001b[0m\n\u001b[1;32m      9\u001b[0m \u001b[0;31m#gets session number for the user to make a unique upload directory\u001b[0m\u001b[0;34m\u001b[0m\u001b[0;34m\u001b[0m\u001b[0;34m\u001b[0m\u001b[0m\n",
      "\u001b[0;32m<ipython-input-38-b43649410262>\u001b[0m in \u001b[0;36mcheck_permissions\u001b[0;34m()\u001b[0m\n\u001b[1;32m     36\u001b[0m \u001b[0;32mdef\u001b[0m \u001b[0mcheck_permissions\u001b[0m\u001b[0;34m(\u001b[0m\u001b[0;34m)\u001b[0m\u001b[0;34m:\u001b[0m\u001b[0;34m\u001b[0m\u001b[0;34m\u001b[0m\u001b[0m\n\u001b[1;32m     37\u001b[0m     \u001b[0;31m#checks to see if user has permission to upload files and read from reference directory\u001b[0m\u001b[0;34m\u001b[0m\u001b[0;34m\u001b[0m\u001b[0;34m\u001b[0m\u001b[0m\n\u001b[0;32m---> 38\u001b[0;31m     \u001b[0mf\u001b[0m \u001b[0;34m=\u001b[0m \u001b[0mopen\u001b[0m\u001b[0;34m(\u001b[0m\u001b[0;34m'output.txt'\u001b[0m\u001b[0;34m,\u001b[0m\u001b[0;34m'w+r'\u001b[0m\u001b[0;34m)\u001b[0m\u001b[0;34m\u001b[0m\u001b[0;34m\u001b[0m\u001b[0m\n\u001b[0m\u001b[1;32m     39\u001b[0m     \u001b[0mget_ipython\u001b[0m\u001b[0;34m(\u001b[0m\u001b[0;34m)\u001b[0m\u001b[0;34m.\u001b[0m\u001b[0msystem\u001b[0m\u001b[0;34m(\u001b[0m\u001b[0;34m'getfacl -d /data/groups/ghub/tools/gisplot2 >> output.txt'\u001b[0m\u001b[0;34m)\u001b[0m\u001b[0;34m\u001b[0m\u001b[0;34m\u001b[0m\u001b[0m\n\u001b[1;32m     40\u001b[0m     \u001b[0;32mfor\u001b[0m \u001b[0ml\u001b[0m \u001b[0;32min\u001b[0m \u001b[0mf\u001b[0m\u001b[0;34m:\u001b[0m\u001b[0;34m\u001b[0m\u001b[0;34m\u001b[0m\u001b[0m\n",
      "\u001b[0;31mValueError\u001b[0m: must have exactly one of create/read/write/append mode"
     ]
    }
   ],
   "source": [
    "#import cProfile, pstats, StringIO\n",
    "#pr = cProfile.Profile()\n",
    "#pr.enable()\n",
    "\n",
    "#scripting to run when the tool is launched\n",
    "#mostly creates widgets\n",
    "check_permissions()\n",
    "\n",
    "#gets session number for the user to make a unique upload directory\n",
    "s = requests.session()\n",
    "session = str(s).split(' ')\n",
    "session = session[3].replace('>','')\n",
    "upload_directory = '/data/groups/ghub/tools/gisplot2/'+session\n",
    "\n",
    "#creating file upload widget\n",
    "uploaded_filenames = []\n",
    "fm = ui.FileUpload('','Please Select Your Files to Upload',\n",
    "               dir= upload_directory,\n",
    "               cb=done_cb,\n",
    "               maxnum=6,\n",
    "               maxsize='150M')\n",
    "fm.w.observe(button_deactivation)\n",
    "fm.w.observe(provide_fix)\n",
    "\n",
    "#stereograph model is chosen using this widget\n",
    "stereograph_choice = widgets.RadioButtons(\n",
    "    description = 'Projection:',\n",
    "    options = ['model based','standard'],\n",
    "    disabled = False,\n",
    "    layout = widgets.Layout(width = '300px',visibility = 'hidden'))\n",
    "stereograph_choice.observe(second_plot_activation)\n",
    "\n",
    "#value declared to assist in other operations later\n",
    "#global projecion_value\n",
    "projection_value = ''\n",
    "\n",
    "#button used to plot data after it has been uploaded\n",
    "uploaded_data = widgets.Button(\n",
    "    description = 'Plot Data',\n",
    "    button_style = 'info',\n",
    "    disabled = False,\n",
    "    layout = widgets.Layout(visibility = 'hidden'))\n",
    "uploaded_data.on_click(uploaded_cb)\n",
    "\n",
    "reset_upload = widgets.Button(\n",
    "    description = 'Reset Upload',\n",
    "    button_style = 'danger',\n",
    "    layout = widgets.Layout(visibility = 'hidden'))\n",
    "reset_upload.on_click(fix_upload)\n",
    "\n",
    "#all output widgets\n",
    "upload_button = widgets.Output()\n",
    "button_output_widget = widgets.Output()\n",
    "output_widget = widgets.Output()\n",
    "filename_output = widgets.Output()\n",
    "trash_output = widgets.Output()\n",
    "#pr.disable()\n",
    "#s = StringIO.StringIO()\n",
    "#ps = pstats.Stats(pr, stream = s).sort_stats('cumulative')\n",
    "#ps.print_stats()\n",
    "#print(s.getvalue())"
   ]
  },
  {
   "cell_type": "code",
   "execution_count": 12,
   "metadata": {
    "extensions": {
     "jupyter_dashboards": {
      "version": 1,
      "views": {
       "grid_default": {
        "col": 0,
        "height": 3,
        "hidden": false,
        "row": 25,
        "width": 6
       },
       "report_default": {
        "hidden": false
       }
      }
     }
    },
    "scrolled": false
   },
   "outputs": [
    {
     "ename": "NameError",
     "evalue": "name 'fm' is not defined",
     "output_type": "error",
     "traceback": [
      "\u001b[0;31m---------------------------------------------------------------------------\u001b[0m",
      "\u001b[0;31mNameError\u001b[0m                                 Traceback (most recent call last)",
      "\u001b[0;32m<ipython-input-12-b6c9fa730b45>\u001b[0m in \u001b[0;36m<module>\u001b[0;34m\u001b[0m\n\u001b[0;32m----> 1\u001b[0;31m \u001b[0mdisplay\u001b[0m\u001b[0;34m(\u001b[0m\u001b[0mfm\u001b[0m\u001b[0;34m)\u001b[0m\u001b[0;34m\u001b[0m\u001b[0;34m\u001b[0m\u001b[0m\n\u001b[0m",
      "\u001b[0;31mNameError\u001b[0m: name 'fm' is not defined"
     ]
    }
   ],
   "source": [
    "display(fm)"
   ]
  },
  {
   "cell_type": "code",
   "execution_count": 13,
   "metadata": {
    "extensions": {
     "jupyter_dashboards": {
      "version": 1,
      "views": {
       "grid_default": {
        "col": 6,
        "height": 2,
        "hidden": false,
        "row": 25,
        "width": 3
       },
       "report_default": {
        "hidden": false
       }
      }
     }
    },
    "scrolled": true
   },
   "outputs": [
    {
     "ename": "NameError",
     "evalue": "name 'stereograph_choice' is not defined",
     "output_type": "error",
     "traceback": [
      "\u001b[0;31m---------------------------------------------------------------------------\u001b[0m",
      "\u001b[0;31mNameError\u001b[0m                                 Traceback (most recent call last)",
      "\u001b[0;32m<ipython-input-13-c6f3019c1785>\u001b[0m in \u001b[0;36m<module>\u001b[0;34m\u001b[0m\n\u001b[0;32m----> 1\u001b[0;31m \u001b[0mdisplay\u001b[0m\u001b[0;34m(\u001b[0m\u001b[0mstereograph_choice\u001b[0m\u001b[0;34m)\u001b[0m\u001b[0;34m\u001b[0m\u001b[0;34m\u001b[0m\u001b[0m\n\u001b[0m",
      "\u001b[0;31mNameError\u001b[0m: name 'stereograph_choice' is not defined"
     ]
    }
   ],
   "source": [
    "display(stereograph_choice)"
   ]
  },
  {
   "cell_type": "code",
   "execution_count": 14,
   "metadata": {
    "extensions": {
     "jupyter_dashboards": {
      "version": 1,
      "views": {
       "grid_default": {
        "col": 9,
        "height": 2,
        "hidden": false,
        "row": 33,
        "width": 3
       },
       "report_default": {
        "hidden": false
       }
      }
     }
    },
    "scrolled": true
   },
   "outputs": [],
   "source": [
    "def display_upload():\n",
    "    with upload_button:\n",
    "        display(uploaded_data)"
   ]
  },
  {
   "cell_type": "code",
   "execution_count": 15,
   "metadata": {
    "extensions": {
     "jupyter_dashboards": {
      "version": 1,
      "views": {
       "grid_default": {
        "col": 9,
        "height": 2,
        "hidden": false,
        "row": 25,
        "width": 2
       },
       "report_default": {}
      }
     }
    }
   },
   "outputs": [
    {
     "ename": "NameError",
     "evalue": "name 'upload_button' is not defined",
     "output_type": "error",
     "traceback": [
      "\u001b[0;31m---------------------------------------------------------------------------\u001b[0m",
      "\u001b[0;31mNameError\u001b[0m                                 Traceback (most recent call last)",
      "\u001b[0;32m<ipython-input-15-4ec5f61e0827>\u001b[0m in \u001b[0;36m<module>\u001b[0;34m\u001b[0m\n\u001b[0;32m----> 1\u001b[0;31m \u001b[0mdisplay\u001b[0m\u001b[0;34m(\u001b[0m\u001b[0mupload_button\u001b[0m\u001b[0;34m)\u001b[0m\u001b[0;34m\u001b[0m\u001b[0;34m\u001b[0m\u001b[0m\n\u001b[0m",
      "\u001b[0;31mNameError\u001b[0m: name 'upload_button' is not defined"
     ]
    }
   ],
   "source": [
    "display(upload_button)"
   ]
  },
  {
   "cell_type": "code",
   "execution_count": null,
   "metadata": {
    "extensions": {
     "jupyter_dashboards": {
      "version": 1,
      "views": {
       "grid_default": {
        "col": 6,
        "height": 2,
        "hidden": false,
        "row": 27,
        "width": 2
       },
       "report_default": {}
      }
     }
    }
   },
   "outputs": [],
   "source": [
    "reset_upload"
   ]
  },
  {
   "cell_type": "code",
   "execution_count": null,
   "metadata": {
    "extensions": {
     "jupyter_dashboards": {
      "version": 1,
      "views": {
       "grid_default": {
        "col": 9,
        "height": 2,
        "hidden": false,
        "row": 27,
        "width": 3
       },
       "report_default": {
        "hidden": false
       }
      }
     }
    }
   },
   "outputs": [],
   "source": [
    "display(button_output_widget)"
   ]
  },
  {
   "cell_type": "code",
   "execution_count": null,
   "metadata": {
    "extensions": {
     "jupyter_dashboards": {
      "version": 1,
      "views": {
       "grid_default": {
        "col": 9,
        "height": 4,
        "hidden": false,
        "row": 29,
        "width": 3
       },
       "report_default": {}
      }
     }
    }
   },
   "outputs": [],
   "source": [
    "display(filename_output)"
   ]
  },
  {
   "cell_type": "code",
   "execution_count": null,
   "metadata": {
    "extensions": {
     "jupyter_dashboards": {
      "version": 1,
      "views": {
       "grid_default": {
        "col": 0,
        "height": 43,
        "hidden": false,
        "row": 29,
        "width": 9
       },
       "report_default": {
        "hidden": false
       }
      }
     }
    },
    "scrolled": false
   },
   "outputs": [],
   "source": [
    "display(output_widget)"
   ]
  },
  {
   "cell_type": "code",
   "execution_count": null,
   "metadata": {
    "extensions": {
     "jupyter_dashboards": {
      "version": 1,
      "views": {
       "grid_default": {
        "hidden": true
       },
       "report_default": {
        "hidden": false
       }
      }
     }
    }
   },
   "outputs": [],
   "source": [
    "#if the user exits the program the upload directory is deleted\n",
    "import atexit\n",
    "atexit.register(clear_uploads)"
   ]
  },
  {
   "cell_type": "code",
   "execution_count": 3,
   "metadata": {
    "extensions": {
     "jupyter_dashboards": {
      "version": 1,
      "views": {
       "grid_default": {
        "hidden": true
       },
       "report_default": {}
      }
     }
    }
   },
   "outputs": [
    {
     "ename": "NameError",
     "evalue": "name 'Javascript' is not defined",
     "output_type": "error",
     "traceback": [
      "\u001b[0;31m---------------------------------------------------------------------------\u001b[0m",
      "\u001b[0;31mNameError\u001b[0m                                 Traceback (most recent call last)",
      "\u001b[0;32m<ipython-input-3-0bd289712042>\u001b[0m in \u001b[0;36m<module>\u001b[0;34m\u001b[0m\n\u001b[1;32m      4\u001b[0m     });\n\u001b[1;32m      5\u001b[0m     '''\n\u001b[0;32m----> 6\u001b[0;31m \u001b[0mJavascript\u001b[0m\u001b[0;34m(\u001b[0m\u001b[0mscript\u001b[0m\u001b[0;34m)\u001b[0m\u001b[0;34m\u001b[0m\u001b[0;34m\u001b[0m\u001b[0m\n\u001b[0m",
      "\u001b[0;31mNameError\u001b[0m: name 'Javascript' is not defined"
     ]
    }
   ],
   "source": [
    "script = '''\n",
    "    require([\"base/js/namespace\"],function(Jupyter) {\n",
    "        Jupyter.notebook.save_checkpoint();\n",
    "    });\n",
    "    '''\n",
    "Javascript(script)"
   ]
  }
 ],
 "metadata": {
  "extensions": {
   "jupyter_dashboards": {
    "activeView": "grid_default",
    "version": 1,
    "views": {
     "grid_default": {
      "cellMargin": 10,
      "defaultCellHeight": 20,
      "maxColumns": 12,
      "name": "grid",
      "type": "grid"
     },
     "report_default": {
      "name": "report",
      "type": "report"
     }
    }
   }
  },
  "kernelspec": {
   "display_name": "Python 3",
   "language": "python",
   "name": "python3"
  },
  "language_info": {
   "codemirror_mode": {
    "name": "ipython",
    "version": 3
   },
   "file_extension": ".py",
   "mimetype": "text/x-python",
   "name": "python",
   "nbconvert_exporter": "python",
   "pygments_lexer": "ipython3",
   "version": "3.7.3"
  },
  "tool": true
 },
 "nbformat": 4,
 "nbformat_minor": 2
}
